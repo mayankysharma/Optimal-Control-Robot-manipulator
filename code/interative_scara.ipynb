{
 "cells": [
  {
   "cell_type": "markdown",
   "metadata": {},
   "source": [
    "# An Optimal Control Approach of Robot Manipulator\n",
    "## Implementation"
   ]
  },
  {
   "cell_type": "code",
   "execution_count": 11,
   "metadata": {},
   "outputs": [],
   "source": [
    "%matplotlib Qt\n",
    "from sympy import symbols, Symbol, Matrix, Pow, cos, sin\n",
    "import sympy\n",
    "import numpy as np\n",
    "import matplotlib.pyplot as plt\n",
    "import math\n",
    "from tqdm import tqdm"
   ]
  },
  {
   "cell_type": "markdown",
   "metadata": {},
   "source": [
    "### Defining and Assigning Variables:\n",
    "These Variables are the physical characterstics of Scara Manipulator, such as mass, intertia, friction etc."
   ]
  },
  {
   "cell_type": "code",
   "execution_count": 12,
   "metadata": {},
   "outputs": [],
   "source": [
    "# state variable\n",
    "q1, q2, q1_dot, q2_dot = symbols(\"q1 q2 q1_dot q2_dot\")\n",
    "state = Matrix([[q1],[q2],[q1_dot],[q2_dot]])\n",
    "\n",
    "# variables\n",
    "m1, m2 = symbols(\"m1 m2\") # oz\n",
    "J1, J2 = symbols(\"J1 J2\") # oz-in/rad/sec^2\n",
    "r1, r2 = symbols(\"r1 r2\") # in\n",
    "l1, l2 = symbols(\"l1 l2\") # in\n",
    "b1, b2 = symbols(\"b1 b2\") # oz-in/rad/sec\n",
    "\n",
    "variables = {m1:13.86,m2:3.33,J1: 62.39,J2:16.7, r1:6.12, r2:3.22, l1:8, l2:6, b1:0.2,b2:0.5}\n",
    "# load \n",
    "e = Symbol(\"e\") # e belongs to [0,1]\n",
    "ml = 10*e  # Symbol(\"ml\") # oz\n",
    "Jl = 60*Pow(e,2) #Symbol(\"Jl\") # oz-in/rad/sec^2\n",
    "load_variables = {e:1}"
   ]
  },
  {
   "cell_type": "markdown",
   "metadata": {},
   "source": [
    "### Defining Inertia Matrix (M)"
   ]
  },
  {
   "cell_type": "code",
   "execution_count": 13,
   "metadata": {},
   "outputs": [
    {
     "data": {
      "text/latex": [
       "$\\displaystyle \\left[\\begin{matrix}1131.5616 \\cos{\\left(q_{2} \\right)} + 1905.854756 & 85.7808 \\cos{\\left(q_{2} \\right)} + 471.226772\\\\85.7808 \\cos{\\left(q_{2} \\right)} + 471.226772 & 471.226772\\end{matrix}\\right]$"
      ],
      "text/plain": [
       "Matrix([\n",
       "[1131.5616*cos(q2) + 1905.854756, 85.7808*cos(q2) + 471.226772],\n",
       "[   85.7808*cos(q2) + 471.226772,                   471.226772]])"
      ]
     },
     "execution_count": 13,
     "metadata": {},
     "output_type": "execute_result"
    }
   ],
   "source": [
    "# inertia Matrix\n",
    "M11 = J1+m1*Pow(r1,2)+J2+m2*(Pow(l1,2)+Pow(r2,2)+2*l1*r2*cos(q2))+Jl+ml*(Pow(l1,2)+Pow(l2,2)+2*l1*l2*cos(q2))\n",
    "M12 = J2 + m2*(Pow(r2,2)+l1*r2*cos(q2))+Jl+ml*Pow(l2,2)\n",
    "M21 = M12\n",
    "M22 = J2+m2*Pow(r2,2)+Jl+ml*Pow(l2,2)\n",
    "M = Matrix([[M11,M12],[M21,M22]])\n",
    "# M = Matrix([M11,M12])\n",
    "M0 = M.subs({**variables,**load_variables})\n",
    "M0"
   ]
  },
  {
   "cell_type": "markdown",
   "metadata": {},
   "source": [
    "### Defining Matrix (N)\n",
    "This Matrix contains information of frictional force and centripital force. The gravitational force $g(x) = 0$\n"
   ]
  },
  {
   "cell_type": "code",
   "execution_count": 14,
   "metadata": {},
   "outputs": [
    {
     "data": {
      "text/latex": [
       "$\\displaystyle \\left[\\begin{matrix}0.2 q_{1 dot} + 565.7808 \\cdot \\left(2 q_{1 dot} q_{2 dot} + q_{2 dot}^{2}\\right) \\sin{\\left(q_{2} \\right)}\\\\565.7808 q_{1 dot}^{2} \\sin{\\left(q_{2} \\right)} + 0.5 q_{2 dot}\\end{matrix}\\right]$"
      ],
      "text/plain": [
       "Matrix([\n",
       "[0.2*q1_dot + 565.7808*(2*q1_dot*q2_dot + q2_dot**2)*sin(q2)],\n",
       "[                    565.7808*q1_dot**2*sin(q2) + 0.5*q2_dot]])"
      ]
     },
     "execution_count": 14,
     "metadata": {},
     "output_type": "execute_result"
    }
   ],
   "source": [
    "# N (friction+centripital force)\n",
    "n1 = (m2*l1*r2+ml*l1*l2)*(Pow(q2_dot,2)+2*q1_dot*q2_dot)*sin(q2)+b1*q1_dot\n",
    "n2 = (m2*l1*r2+ml*l1*l2)*Pow(q1_dot,2)*sin(q2)+b2*q2_dot\n",
    "N = Matrix([[n1],[n2]])\n",
    "# N\n",
    "N0 = N.subs({**variables,**load_variables})\n",
    "N0"
   ]
  },
  {
   "cell_type": "markdown",
   "metadata": {},
   "source": [
    "### Optimal Control input (u0)\n",
    "The u0 is been calculated using LQR controller after solving the cost function, for optimal control problem:\n",
    "$$\n",
    "\\int_0^\\infty (x^TPx+x^Tx+u^Tu)dt\n",
    "$$"
   ]
  },
  {
   "cell_type": "code",
   "execution_count": 15,
   "metadata": {},
   "outputs": [],
   "source": [
    "# optimal control input\n",
    "X1 = Matrix([[q1],[q2]])\n",
    "K = Matrix([[14.803,1.3591],[1.3591,2.8553]])\n",
    "X2 = Matrix([[q1_dot],[q2_dot]])\n",
    "u0 = -X1-K*X2"
   ]
  },
  {
   "cell_type": "markdown",
   "metadata": {},
   "source": [
    "### Defining uncertainties:\n",
    "Defining the system dynamic uncertainty $f(x)$, and input uncertainty $h(x)$.\n",
    "where,\n",
    "$$\n",
    "h(x) = M^{-1}M_0-I\n",
    "$$\n",
    "$$\n",
    "f(x) = M^{-1}(N_0-N)\n",
    "$$"
   ]
  },
  {
   "cell_type": "code",
   "execution_count": 16,
   "metadata": {},
   "outputs": [],
   "source": [
    "def get_uncertainties(M_sub, N_sub, N0, M0):\n",
    "    # Matched uncertainty in system dynamics, \n",
    "    f = M_sub.inv()*(N0-N_sub)\n",
    "\n",
    "    # uncertainty input matrix, \n",
    "    h = M_sub.inv()*M0-sympy.eye(2)\n",
    "\n",
    "    return f,h"
   ]
  },
  {
   "cell_type": "markdown",
   "metadata": {},
   "source": [
    "### Defining State Space equation\n",
    "$$\n",
    "\\dot x  = Ax+B(u+h(x)u)+Bf(x)\n",
    "$$\n",
    "Calculating next state, for given $\\delta t$ (dt) time interval."
   ]
  },
  {
   "cell_type": "code",
   "execution_count": 17,
   "metadata": {},
   "outputs": [],
   "source": [
    "def state_space_model(A,B,state,optimal_input,h,f,dt):\n",
    "    state_dot = A*state+B*(optimal_input+h*optimal_input)+B*f\n",
    "    # sympy.pprint(state_dot)\n",
    "    q1 = state[0]+state_dot[0]*dt\n",
    "    q2 = state[1]+state_dot[1]*dt\n",
    "    q1_dot = state[2]+state_dot[2]*dt\n",
    "    q2_dot = state[3]+state_dot[3]*dt\n",
    "    next_state = Matrix([q1,q2,q1_dot,q2_dot]).reshape(4,1)\n",
    "    return next_state\n"
   ]
  },
  {
   "cell_type": "markdown",
   "metadata": {},
   "source": [
    "### Looping to stabilise the system.\n",
    "\n",
    "* total_time = 100\n",
    "* dt = .1 ($\\delta t$)\n",
    "\n",
    "* e = 0 ($\\epsilon = 0$ can have value in $ [0,0.5,1]$) \n",
    "* $A$ matrix of state space dynamic equation\n",
    "$$\n",
    "A = \\begin{bmatrix} \n",
    "        0 & 0 &1 & 0 \\\\\n",
    "        0 & 0 & 0 & 1 \\\\\n",
    "        0 & 0 & 0 & 0 \\\\\n",
    "        0& 0 & 0 & 0\n",
    "    \\end{bmatrix}\n",
    "$$\n",
    "* $B$ matrix of state space dynamic equation\n",
    "$$\n",
    "B = \\begin{bmatrix}\n",
    "        0 & 0 \\\\\n",
    "        0 & 0 \\\\\n",
    "        1 & 0 \\\\\n",
    "        0 & 1\n",
    "    \\end{bmatrix}\n",
    "$$"
   ]
  },
  {
   "cell_type": "code",
   "execution_count": 18,
   "metadata": {},
   "outputs": [
    {
     "name": "stderr",
     "output_type": "stream",
     "text": [
      "100%|██████████| 10000/10000 [06:16<00:00, 26.55it/s]\n"
     ]
    }
   ],
   "source": [
    "total_time = 100\n",
    "dt = .01\n",
    "# e = 0\n",
    "load_variables = {e:0}\n",
    "A = Matrix([[0,0,1,0],[0,0,0,1],[0,0,0,0],[0,0,0,0]])\n",
    "B = Matrix([[0,0],[0,0],[1,0],[0,1]])\n",
    "q1s = []\n",
    "q2s = []\n",
    "q1_dots = []\n",
    "q2_dots = []\n",
    "u1s = []\n",
    "u2s = []\n",
    "Ts = np.arange(0,total_time,dt)\n",
    "\n",
    "X_states = {q1:math.radians(60),q2:math.radians(-30),q1_dot:0,q2_dot:0}\n",
    "curr_state = state.subs(X_states)\n",
    "for i in tqdm(Ts):\n",
    "    X_states = {q1:curr_state[0],q2:curr_state[1],q1_dot:curr_state[2],q2_dot:curr_state[3]}\n",
    "    # print(\"\\ncurrent_states: \",X_states)\n",
    "    optimal_control_input = u0.subs(X_states)\n",
    "    M_sub = M.subs({**variables, **load_variables,**X_states})\n",
    "    N_sub = N.subs({**variables, **load_variables,**X_states})\n",
    "    N0_sub = N0.subs(X_states)\n",
    "    M0_sub = M0.subs(X_states)\n",
    "\n",
    "    f,h = get_uncertainties(M_sub,N_sub,N0_sub,M0_sub)\n",
    "    \n",
    "    u1s.append(optimal_control_input[0])\n",
    "    u2s.append(optimal_control_input[1])\n",
    "    q1s.append(X_states[q1])\n",
    "    q2s.append(X_states[q2])\n",
    "    q1_dots.append(X_states[q1_dot])\n",
    "    q2_dots.append(X_states[q2_dot])\n",
    "\n",
    "    next_state = state_space_model(A,B,curr_state,optimal_control_input,h,f,dt)\n",
    "    curr_state=next_state"
   ]
  },
  {
   "cell_type": "markdown",
   "metadata": {},
   "source": [
    "### Plotting \n",
    "* Plotting the states : $q_1$,$q_2$,$\\dot q_1$, $\\dot q_2$\n",
    "* Plotting the element of optimal control input matrix (u0): $ u_0 $ and $u_1$"
   ]
  },
  {
   "cell_type": "code",
   "execution_count": 13,
   "metadata": {},
   "outputs": [],
   "source": [
    "# plotting\n",
    "fig,axs = plt.subplots(nrows=3,ncols=2,figsize=(15,10))\n",
    "fig.suptitle(r\"time response for $\\epsilon$=0\",fontsize=18)\n",
    "# print(axs)\n",
    "ax1 = axs[0,0]\n",
    "ax1.set_xlabel(\"t (sec)\")\n",
    "ax1.set_ylabel(\"q1 (rad)\")\n",
    "ax1.plot(Ts,q1s)\n",
    "\n",
    "ax2 = axs[0,1]\n",
    "# ax2 =  plt.subplot(322,autoscale_on=True)\n",
    "ax2.set_xlabel(\"t (sec)\")\n",
    "ax2.set_ylabel(\"q2 (rad)\")\n",
    "ax2.plot(Ts,q2s)\n",
    "\n",
    "ax3 = axs[1,0]\n",
    "# ax3 =  plt.subplot(323)\n",
    "ax3.set_xlabel(\"t (sec)\")\n",
    "ax3.set_ylabel(\"q1dot (rad/sec)\")\n",
    "ax3.plot(Ts,q1_dots)\n",
    "\n",
    "ax4 = axs[1,1]\n",
    "# ax4 =  plt.subplot(324)\n",
    "ax4.set_xlabel(\"t (sec)\")\n",
    "ax4.set_ylabel(\"q2dot (rad/sec)\")\n",
    "ax4.plot(Ts,q2_dots)\n",
    "\n",
    "ax5 = axs[2,0]\n",
    "# ax5 =  plt.subplot(325)\n",
    "ax5.set_xlabel(\"t (sec)\")\n",
    "ax5.set_ylabel(\"u1\")\n",
    "ax5.plot(Ts,u1s)\n",
    "\n",
    "ax6 = axs[2,1]\n",
    "# ax6 =  plt.subplot(326)\n",
    "ax6.set_xlabel(\"t (sec)\")\n",
    "ax6.set_ylabel(\"u2\")\n",
    "ax6.plot(Ts,u2s)\n",
    "\n",
    "plt.show()"
   ]
  },
  {
   "cell_type": "code",
   "execution_count": null,
   "metadata": {},
   "outputs": [],
   "source": []
  }
 ],
 "metadata": {
  "kernelspec": {
   "display_name": "Python 3.8.10 64-bit",
   "language": "python",
   "name": "python3"
  },
  "language_info": {
   "codemirror_mode": {
    "name": "ipython",
    "version": 3
   },
   "file_extension": ".py",
   "mimetype": "text/x-python",
   "name": "python",
   "nbconvert_exporter": "python",
   "pygments_lexer": "ipython3",
   "version": "3.8.10"
  },
  "orig_nbformat": 4,
  "vscode": {
   "interpreter": {
    "hash": "916dbcbb3f70747c44a77c7bcd40155683ae19c65e1c03b4aa3499c5328201f1"
   }
  }
 },
 "nbformat": 4,
 "nbformat_minor": 2
}
